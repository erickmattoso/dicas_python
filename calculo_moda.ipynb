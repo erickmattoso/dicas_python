{
 "metadata": {
  "language_info": {
   "codemirror_mode": {
    "name": "ipython",
    "version": 3
   },
   "file_extension": ".py",
   "mimetype": "text/x-python",
   "name": "python",
   "nbconvert_exporter": "python",
   "pygments_lexer": "ipython3",
   "version": "3.6.9-final"
  },
  "orig_nbformat": 2,
  "kernelspec": {
   "name": "python369jvsc74a57bd0f6511506c685376067231baf666baac05aec08c5af38124138147948319503f6",
   "display_name": "Python 3.6.9 64-bit ('ibope': conda)"
  }
 },
 "nbformat": 4,
 "nbformat_minor": 2,
 "cells": [
  {
   "source": [
    "# Importa Bibliotecas"
   ],
   "cell_type": "markdown",
   "metadata": {}
  },
  {
   "cell_type": "code",
   "execution_count": 4,
   "metadata": {},
   "outputs": [],
   "source": [
    "import pandas as pd"
   ]
  },
  {
   "source": [
    "# Dados"
   ],
   "cell_type": "markdown",
   "metadata": {}
  },
  {
   "cell_type": "code",
   "execution_count": 5,
   "metadata": {},
   "outputs": [
    {
     "output_type": "execute_result",
     "data": {
      "text/plain": [
       "    CPF  Cat  Qtde\n",
       "0  0000  AAA     3\n",
       "1  0000  BBB     3\n",
       "2  0000  CCC     3\n",
       "3  1111  DDD    12\n",
       "4  1111  AAA     1"
      ],
      "text/html": "<div>\n<style scoped>\n    .dataframe tbody tr th:only-of-type {\n        vertical-align: middle;\n    }\n\n    .dataframe tbody tr th {\n        vertical-align: top;\n    }\n\n    .dataframe thead th {\n        text-align: right;\n    }\n</style>\n<table border=\"1\" class=\"dataframe\">\n  <thead>\n    <tr style=\"text-align: right;\">\n      <th></th>\n      <th>CPF</th>\n      <th>Cat</th>\n      <th>Qtde</th>\n    </tr>\n  </thead>\n  <tbody>\n    <tr>\n      <th>0</th>\n      <td>0000</td>\n      <td>AAA</td>\n      <td>3</td>\n    </tr>\n    <tr>\n      <th>1</th>\n      <td>0000</td>\n      <td>BBB</td>\n      <td>3</td>\n    </tr>\n    <tr>\n      <th>2</th>\n      <td>0000</td>\n      <td>CCC</td>\n      <td>3</td>\n    </tr>\n    <tr>\n      <th>3</th>\n      <td>1111</td>\n      <td>DDD</td>\n      <td>12</td>\n    </tr>\n    <tr>\n      <th>4</th>\n      <td>1111</td>\n      <td>AAA</td>\n      <td>1</td>\n    </tr>\n  </tbody>\n</table>\n</div>"
     },
     "metadata": {},
     "execution_count": 5
    }
   ],
   "source": [
    "\n",
    "source = pd.DataFrame({\n",
    "    'CPF'  : ['0000','0000', '0000', '1111','1111'], \n",
    "    'Cat'  : ['AAA', 'BBB','CCC', 'DDD', 'AAA'],\n",
    "    'Qtde' : [3,3,3,12,1]})\n",
    "\n",
    "source"
   ]
  },
  {
   "source": [
    "# Engenharia"
   ],
   "cell_type": "markdown",
   "metadata": {}
  },
  {
   "cell_type": "code",
   "execution_count": 6,
   "metadata": {},
   "outputs": [
    {
     "output_type": "execute_result",
     "data": {
      "text/plain": [
       "    CPF  Qtde          Cat\n",
       "0  0000     3  AAA,BBB,CCC\n",
       "1  1111     1          AAA\n",
       "2  1111    12          DDD"
      ],
      "text/html": "<div>\n<style scoped>\n    .dataframe tbody tr th:only-of-type {\n        vertical-align: middle;\n    }\n\n    .dataframe tbody tr th {\n        vertical-align: top;\n    }\n\n    .dataframe thead th {\n        text-align: right;\n    }\n</style>\n<table border=\"1\" class=\"dataframe\">\n  <thead>\n    <tr style=\"text-align: right;\">\n      <th></th>\n      <th>CPF</th>\n      <th>Qtde</th>\n      <th>Cat</th>\n    </tr>\n  </thead>\n  <tbody>\n    <tr>\n      <th>0</th>\n      <td>0000</td>\n      <td>3</td>\n      <td>AAA,BBB,CCC</td>\n    </tr>\n    <tr>\n      <th>1</th>\n      <td>1111</td>\n      <td>1</td>\n      <td>AAA</td>\n    </tr>\n    <tr>\n      <th>2</th>\n      <td>1111</td>\n      <td>12</td>\n      <td>DDD</td>\n    </tr>\n  </tbody>\n</table>\n</div>"
     },
     "metadata": {},
     "execution_count": 6
    }
   ],
   "source": [
    "forma1 = source.groupby(['CPF', 'Qtde'])['Cat'].apply(','.join).reset_index()\n",
    "forma1.head()"
   ]
  },
  {
   "cell_type": "code",
   "execution_count": 7,
   "metadata": {},
   "outputs": [
    {
     "output_type": "execute_result",
     "data": {
      "text/plain": [
       "    CPF  Qtde          Cat\n",
       "0  0000     3  AAA,BBB,CCC\n",
       "1  1111    12          DDD"
      ],
      "text/html": "<div>\n<style scoped>\n    .dataframe tbody tr th:only-of-type {\n        vertical-align: middle;\n    }\n\n    .dataframe tbody tr th {\n        vertical-align: top;\n    }\n\n    .dataframe thead th {\n        text-align: right;\n    }\n</style>\n<table border=\"1\" class=\"dataframe\">\n  <thead>\n    <tr style=\"text-align: right;\">\n      <th></th>\n      <th>CPF</th>\n      <th>Qtde</th>\n      <th>Cat</th>\n    </tr>\n  </thead>\n  <tbody>\n    <tr>\n      <th>0</th>\n      <td>0000</td>\n      <td>3</td>\n      <td>AAA,BBB,CCC</td>\n    </tr>\n    <tr>\n      <th>1</th>\n      <td>1111</td>\n      <td>12</td>\n      <td>DDD</td>\n    </tr>\n  </tbody>\n</table>\n</div>"
     },
     "metadata": {},
     "execution_count": 7
    }
   ],
   "source": [
    "forma2 = forma1.sort_values('Qtde', ascending=False).drop_duplicates('CPF').sort_index().reset_index(drop=True)\n",
    "forma2.head()"
   ]
  }
 ]
}