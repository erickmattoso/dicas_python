{
 "cells": [
  {
   "cell_type": "markdown",
   "metadata": {},
   "source": [
    "# list files on directory"
   ]
  },
  {
   "cell_type": "code",
   "execution_count": 1,
   "metadata": {},
   "outputs": [
    {
     "name": "stdout",
     "output_type": "stream",
     "text": [
      "Files and directories in ' C:\\Users\\User\\ERICK ':\n"
     ]
    },
    {
     "data": {
      "text/plain": [
       "['.ipynb_checkpoints',\n",
       " 'altair.ipynb',\n",
       " 'assert.ipynb',\n",
       " 'comparing_2_df_assert_frame_equal.ipynb',\n",
       " 'DataFrame.pipe.ipynb',\n",
       " 'desktop.ini',\n",
       " 'os_system_py.ipynb',\n",
       " 'powerbi',\n",
       " 'StudentsPerformance.csv',\n",
       " 'TextBlob.ipynb',\n",
       " 'Untitled.ipynb',\n",
       " 'utils.py',\n",
       " '__all__.ipynb']"
      ]
     },
     "execution_count": 1,
     "metadata": {},
     "output_type": "execute_result"
    }
   ],
   "source": [
    "# importing os module\n",
    "import os\n",
    "\n",
    "# Get the list of all files and directories in the root directory\n",
    "path = os.getcwd()#\"/\"\n",
    "dir_list = os.listdir(path)\n",
    "\n",
    "print(\"Files and directories in '\", path, \"':\")\n",
    "\n",
    "# print the list\n",
    "(dir_list)"
   ]
  },
  {
   "cell_type": "markdown",
   "metadata": {},
   "source": [
    "# current directory"
   ]
  },
  {
   "cell_type": "code",
   "execution_count": 2,
   "metadata": {},
   "outputs": [
    {
     "name": "stdout",
     "output_type": "stream",
     "text": [
      "Current working directory: C:\\Users\\User\\ERICK\n"
     ]
    }
   ],
   "source": [
    "import os\n",
    "# Get the current working directory (CWD)\n",
    "cwd = os.getcwd()\n",
    "# Print the current working directory (CWD)\n",
    "print(\"Current working directory:\", cwd)"
   ]
  },
  {
   "cell_type": "markdown",
   "metadata": {},
   "source": [
    "# create folder"
   ]
  },
  {
   "cell_type": "code",
   "execution_count": 3,
   "metadata": {},
   "outputs": [
    {
     "name": "stdout",
     "output_type": "stream",
     "text": [
      "Current working directory: C:\\Users\\User\\ERICK\n",
      "Directory 'GeeksforGeeks' created\n"
     ]
    }
   ],
   "source": [
    "# importing os module\n",
    "import os\n",
    "\n",
    "# Get the current working directory (CWD)\n",
    "cwd = os.getcwd()\n",
    "\n",
    "# Print the current working directory (CWD)\n",
    "print(\"Current working directory:\", cwd)\n",
    "\n",
    "# Directory\n",
    "directory = \"GeeksforGeeks\"\n",
    "\n",
    "# Parent Directory path\n",
    "parent_dir = cwd\n",
    "\n",
    "# Path\n",
    "path = os.path.join(parent_dir, directory)\n",
    "\n",
    "# Create the directory 'GeeksForGeeks' in '/home / User / Documents'\n",
    "os.mkdir(path)\n",
    "print(\"Directory '% s' created\" % directory)"
   ]
  },
  {
   "cell_type": "markdown",
   "metadata": {},
   "source": [
    "# delete folder"
   ]
  },
  {
   "cell_type": "code",
   "execution_count": 4,
   "metadata": {},
   "outputs": [],
   "source": [
    "# importing os module\n",
    "import os\n",
    "\n",
    "# Directory name\n",
    "directory = \"GeeksforGeeks\"\n",
    "\n",
    "# Parent Directory\n",
    "parent_dir = cwd\n",
    "\n",
    "# Path\n",
    "path = os.path.join(parent_dir, directory)\n",
    "\n",
    "# Remove the Directory\n",
    "# \"Geeks\"\n",
    "os.rmdir(path)"
   ]
  },
  {
   "cell_type": "markdown",
   "metadata": {},
   "source": [
    "# Join paths"
   ]
  },
  {
   "cell_type": "code",
   "execution_count": 5,
   "metadata": {},
   "outputs": [
    {
     "name": "stdout",
     "output_type": "stream",
     "text": [
      "C:\\Users\\User\\ERICK\\utils.py\n"
     ]
    }
   ],
   "source": [
    "# importing os module\n",
    "import os\n",
    "\n",
    "# File name\n",
    "file = \"utils.py\"\n",
    "\n",
    "# File location\n",
    "location = os.getcwd()\n",
    "\n",
    "# Path\n",
    "path = os.path.join(location, file)\n",
    "\n",
    "# os.remove(path)\n",
    "print(path)"
   ]
  },
  {
   "cell_type": "markdown",
   "metadata": {},
   "source": [
    "# rename files"
   ]
  },
  {
   "cell_type": "code",
   "execution_count": 6,
   "metadata": {},
   "outputs": [
    {
     "name": "stdout",
     "output_type": "stream",
     "text": [
      "Original:  ['utils.py']\n"
     ]
    }
   ],
   "source": [
    "print(\"Original: \",[i for i in os.listdir(os.getcwd()) if i.startswith(\"utils\")])\n"
   ]
  },
  {
   "cell_type": "code",
   "execution_count": 7,
   "metadata": {},
   "outputs": [
    {
     "name": "stdout",
     "output_type": "stream",
     "text": [
      "Original:  ['utils.py']\n",
      "rename 1:  ['utils1.py']\n",
      "rename 2:  ['utils2.py']\n",
      "rename 3:  ['utils.py']\n"
     ]
    }
   ],
   "source": [
    "import os\n",
    "print(\"Original: \",[i for i in os.listdir(os.getcwd()) if i.startswith(\"utils\")])\n",
    "\n",
    "os.rename(\"utils.py\",'utils1.py')\n",
    "print(\"rename 1: \",[i for i in os.listdir(os.getcwd()) if i.startswith(\"utils\")])\n",
    "\n",
    "os.rename(\"utils1.py\",'utils2.py')\n",
    "print(\"rename 2: \",[i for i in os.listdir(os.getcwd()) if i.startswith(\"utils\")])\n",
    "\n",
    "os.rename(\"utils2.py\",'utils.py')\n",
    "print(\"rename 3: \",[i for i in os.listdir(os.getcwd()) if i.startswith(\"utils\")])"
   ]
  }
 ],
 "metadata": {
  "kernelspec": {
   "display_name": "Python 3",
   "language": "python",
   "name": "python3"
  },
  "language_info": {
   "codemirror_mode": {
    "name": "ipython",
    "version": 3
   },
   "file_extension": ".py",
   "mimetype": "text/x-python",
   "name": "python",
   "nbconvert_exporter": "python",
   "pygments_lexer": "ipython3",
   "version": "3.8.5"
  }
 },
 "nbformat": 4,
 "nbformat_minor": 4
}
