{
 "metadata": {
  "language_info": {
   "codemirror_mode": {
    "name": "ipython",
    "version": 3
   },
   "file_extension": ".py",
   "mimetype": "text/x-python",
   "name": "python",
   "nbconvert_exporter": "python",
   "pygments_lexer": "ipython3",
   "version": "3.6.9-final"
  },
  "orig_nbformat": 2,
  "kernelspec": {
   "name": "python369jvsc74a57bd0f6511506c685376067231baf666baac05aec08c5af38124138147948319503f6",
   "display_name": "Python 3.6.9 64-bit ('ibope': conda)"
  }
 },
 "nbformat": 4,
 "nbformat_minor": 2,
 "cells": [
  {
   "cell_type": "code",
   "execution_count": 5,
   "metadata": {},
   "outputs": [
    {
     "output_type": "execute_result",
     "data": {
      "text/plain": [
       "           CPF              Cat  Qtde\n",
       "0  99999870015  SILKADA UNISSEX     3\n",
       "1  99999870015            MARIO     3\n",
       "2  99999870015            SUPER     3\n",
       "3  01595449043      TRADICIONAL    12\n",
       "4  01595449043  SILKADA UNISSEX     1"
      ],
      "text/html": "<div>\n<style scoped>\n    .dataframe tbody tr th:only-of-type {\n        vertical-align: middle;\n    }\n\n    .dataframe tbody tr th {\n        vertical-align: top;\n    }\n\n    .dataframe thead th {\n        text-align: right;\n    }\n</style>\n<table border=\"1\" class=\"dataframe\">\n  <thead>\n    <tr style=\"text-align: right;\">\n      <th></th>\n      <th>CPF</th>\n      <th>Cat</th>\n      <th>Qtde</th>\n    </tr>\n  </thead>\n  <tbody>\n    <tr>\n      <th>0</th>\n      <td>99999870015</td>\n      <td>SILKADA UNISSEX</td>\n      <td>3</td>\n    </tr>\n    <tr>\n      <th>1</th>\n      <td>99999870015</td>\n      <td>MARIO</td>\n      <td>3</td>\n    </tr>\n    <tr>\n      <th>2</th>\n      <td>99999870015</td>\n      <td>SUPER</td>\n      <td>3</td>\n    </tr>\n    <tr>\n      <th>3</th>\n      <td>01595449043</td>\n      <td>TRADICIONAL</td>\n      <td>12</td>\n    </tr>\n    <tr>\n      <th>4</th>\n      <td>01595449043</td>\n      <td>SILKADA UNISSEX</td>\n      <td>1</td>\n    </tr>\n  </tbody>\n</table>\n</div>"
     },
     "metadata": {},
     "execution_count": 5
    }
   ],
   "source": [
    "import pandas as pd\n",
    "\n",
    "source = pd.DataFrame({\n",
    "    'CPF'  : ['99999870015','99999870015', '99999870015', '01595449043','01595449043'], \n",
    "    'Cat'  : ['SILKADA UNISSEX', 'MARIO','SUPER', 'TRADICIONAL', 'SILKADA UNISSEX'],\n",
    "    'Qtde' : [3,3,3,12,1]})\n",
    "\n",
    "source"
   ]
  },
  {
   "cell_type": "code",
   "execution_count": 6,
   "metadata": {},
   "outputs": [
    {
     "output_type": "stream",
     "name": "stdout",
     "text": [
      "<class 'pandas.core.frame.DataFrame'>\nRangeIndex: 5 entries, 0 to 4\nData columns (total 3 columns):\n #   Column  Non-Null Count  Dtype \n---  ------  --------------  ----- \n 0   CPF     5 non-null      object\n 1   Cat     5 non-null      object\n 2   Qtde    5 non-null      int64 \ndtypes: int64(1), object(2)\nmemory usage: 248.0+ bytes\n"
     ]
    }
   ],
   "source": [
    "source.info()"
   ]
  },
  {
   "cell_type": "code",
   "execution_count": 7,
   "metadata": {},
   "outputs": [
    {
     "output_type": "execute_result",
     "data": {
      "text/plain": [
       "           CPF  Qtde                              Cat\n",
       "0  01595449043     1                  SILKADA UNISSEX\n",
       "1  01595449043    12                      TRADICIONAL\n",
       "2  99999870015     3  [MARIO, SILKADA UNISSEX, SUPER]"
      ],
      "text/html": "<div>\n<style scoped>\n    .dataframe tbody tr th:only-of-type {\n        vertical-align: middle;\n    }\n\n    .dataframe tbody tr th {\n        vertical-align: top;\n    }\n\n    .dataframe thead th {\n        text-align: right;\n    }\n</style>\n<table border=\"1\" class=\"dataframe\">\n  <thead>\n    <tr style=\"text-align: right;\">\n      <th></th>\n      <th>CPF</th>\n      <th>Qtde</th>\n      <th>Cat</th>\n    </tr>\n  </thead>\n  <tbody>\n    <tr>\n      <th>0</th>\n      <td>01595449043</td>\n      <td>1</td>\n      <td>SILKADA UNISSEX</td>\n    </tr>\n    <tr>\n      <th>1</th>\n      <td>01595449043</td>\n      <td>12</td>\n      <td>TRADICIONAL</td>\n    </tr>\n    <tr>\n      <th>2</th>\n      <td>99999870015</td>\n      <td>3</td>\n      <td>[MARIO, SILKADA UNISSEX, SUPER]</td>\n    </tr>\n  </tbody>\n</table>\n</div>"
     },
     "metadata": {},
     "execution_count": 7
    }
   ],
   "source": [
    "forma1 = source.groupby(['CPF','Qtde'])['Cat'].agg(pd.Series.mode).reset_index()\n",
    "forma1"
   ]
  },
  {
   "cell_type": "code",
   "execution_count": 8,
   "metadata": {},
   "outputs": [
    {
     "output_type": "execute_result",
     "data": {
      "text/plain": [
       "   index          CPF  Qtde                              Cat\n",
       "0      1  01595449043    12                      TRADICIONAL\n",
       "1      2  99999870015     3  [MARIO, SILKADA UNISSEX, SUPER]"
      ],
      "text/html": "<div>\n<style scoped>\n    .dataframe tbody tr th:only-of-type {\n        vertical-align: middle;\n    }\n\n    .dataframe tbody tr th {\n        vertical-align: top;\n    }\n\n    .dataframe thead th {\n        text-align: right;\n    }\n</style>\n<table border=\"1\" class=\"dataframe\">\n  <thead>\n    <tr style=\"text-align: right;\">\n      <th></th>\n      <th>index</th>\n      <th>CPF</th>\n      <th>Qtde</th>\n      <th>Cat</th>\n    </tr>\n  </thead>\n  <tbody>\n    <tr>\n      <th>0</th>\n      <td>1</td>\n      <td>01595449043</td>\n      <td>12</td>\n      <td>TRADICIONAL</td>\n    </tr>\n    <tr>\n      <th>1</th>\n      <td>2</td>\n      <td>99999870015</td>\n      <td>3</td>\n      <td>[MARIO, SILKADA UNISSEX, SUPER]</td>\n    </tr>\n  </tbody>\n</table>\n</div>"
     },
     "metadata": {},
     "execution_count": 8
    }
   ],
   "source": [
    "forma2 = forma1.sort_values('Qtde', ascending=False).drop_duplicates('CPF').sort_index().reset_index()\n",
    "forma2"
   ]
  },
  {
   "cell_type": "code",
   "execution_count": 13,
   "metadata": {},
   "outputs": [
    {
     "output_type": "execute_result",
     "data": {
      "text/plain": [
       "     cod   name  sum_vol    date    lat    lon\n",
       "0   aggc  23124       37  201610 -15.42 -32.11\n",
       "1   aggc  23124       19  201611 -15.42 -32.11\n",
       "2    abc    231       22  201610 -26.42 -43.11\n",
       "3    abc    231       22  201611 -26.42 -43.11\n",
       "4    ttx    231       10  201610 -22.42 -46.11\n",
       "5    ttx    231       10  201611 -22.42 -46.11\n",
       "6    tty    231       25  201610 -25.42 -42.11\n",
       "7    tty    231       45  201611 -25.42 -42.11\n",
       "8   xptx    124       62  201611 -26.43 -43.21\n",
       "9   xptx    124      260  201610 -26.43 -43.21\n",
       "10  xptx  23124       50  201610 -26.43 -43.21\n",
       "11  xptx  23124       50  201611 -26.43 -43.21"
      ],
      "text/html": "<div>\n<style scoped>\n    .dataframe tbody tr th:only-of-type {\n        vertical-align: middle;\n    }\n\n    .dataframe tbody tr th {\n        vertical-align: top;\n    }\n\n    .dataframe thead th {\n        text-align: right;\n    }\n</style>\n<table border=\"1\" class=\"dataframe\">\n  <thead>\n    <tr style=\"text-align: right;\">\n      <th></th>\n      <th>cod</th>\n      <th>name</th>\n      <th>sum_vol</th>\n      <th>date</th>\n      <th>lat</th>\n      <th>lon</th>\n    </tr>\n  </thead>\n  <tbody>\n    <tr>\n      <th>0</th>\n      <td>aggc</td>\n      <td>23124</td>\n      <td>37</td>\n      <td>201610</td>\n      <td>-15.42</td>\n      <td>-32.11</td>\n    </tr>\n    <tr>\n      <th>1</th>\n      <td>aggc</td>\n      <td>23124</td>\n      <td>19</td>\n      <td>201611</td>\n      <td>-15.42</td>\n      <td>-32.11</td>\n    </tr>\n    <tr>\n      <th>2</th>\n      <td>abc</td>\n      <td>231</td>\n      <td>22</td>\n      <td>201610</td>\n      <td>-26.42</td>\n      <td>-43.11</td>\n    </tr>\n    <tr>\n      <th>3</th>\n      <td>abc</td>\n      <td>231</td>\n      <td>22</td>\n      <td>201611</td>\n      <td>-26.42</td>\n      <td>-43.11</td>\n    </tr>\n    <tr>\n      <th>4</th>\n      <td>ttx</td>\n      <td>231</td>\n      <td>10</td>\n      <td>201610</td>\n      <td>-22.42</td>\n      <td>-46.11</td>\n    </tr>\n    <tr>\n      <th>5</th>\n      <td>ttx</td>\n      <td>231</td>\n      <td>10</td>\n      <td>201611</td>\n      <td>-22.42</td>\n      <td>-46.11</td>\n    </tr>\n    <tr>\n      <th>6</th>\n      <td>tty</td>\n      <td>231</td>\n      <td>25</td>\n      <td>201610</td>\n      <td>-25.42</td>\n      <td>-42.11</td>\n    </tr>\n    <tr>\n      <th>7</th>\n      <td>tty</td>\n      <td>231</td>\n      <td>45</td>\n      <td>201611</td>\n      <td>-25.42</td>\n      <td>-42.11</td>\n    </tr>\n    <tr>\n      <th>8</th>\n      <td>xptx</td>\n      <td>124</td>\n      <td>62</td>\n      <td>201611</td>\n      <td>-26.43</td>\n      <td>-43.21</td>\n    </tr>\n    <tr>\n      <th>9</th>\n      <td>xptx</td>\n      <td>124</td>\n      <td>260</td>\n      <td>201610</td>\n      <td>-26.43</td>\n      <td>-43.21</td>\n    </tr>\n    <tr>\n      <th>10</th>\n      <td>xptx</td>\n      <td>23124</td>\n      <td>50</td>\n      <td>201610</td>\n      <td>-26.43</td>\n      <td>-43.21</td>\n    </tr>\n    <tr>\n      <th>11</th>\n      <td>xptx</td>\n      <td>23124</td>\n      <td>50</td>\n      <td>201611</td>\n      <td>-26.43</td>\n      <td>-43.21</td>\n    </tr>\n  </tbody>\n</table>\n</div>"
     },
     "metadata": {},
     "execution_count": 13
    }
   ],
   "source": [
    "import pandas as pd\n",
    "data_values = [['aggc', 23124, 37, 201610, -15.42, -32.11],\n",
    "               ['aggc', 23124, 19, 201611, -15.42, -32.11],\n",
    "               [' abc', 231, 22, 201610, -26.42, -43.11],\n",
    "               [' abc', 231, 22, 201611, -26.42, -43.11],\n",
    "               [' ttx', 231, 10, 201610, -22.42, -46.11],\n",
    "               [' ttx', 231, 10, 201611, -22.42, -46.11],\n",
    "               [' tty', 231, 25, 201610, -25.42, -42.11],\n",
    "               [' tty', 231, 45, 201611, -25.42, -42.11],\n",
    "               ['xptx', 124, 62, 201611, -26.43, -43.21],\n",
    "               ['xptx', 124, 260, 201610, -26.43, -43.21],\n",
    "               ['xptx', 23124, 50, 201610, -26.43, -43.21],\n",
    "               ['xptx', 23124, 50, 201611, -26.43, -43.21]]\n",
    "data_cols = ['cod', 'name', 'sum_vol', 'date', 'lat', 'lon']\n",
    "df = pd.DataFrame(data_values, columns=data_cols)\n",
    "df"
   ]
  },
  {
   "cell_type": "code",
   "execution_count": 14,
   "metadata": {},
   "outputs": [
    {
     "output_type": "execute_result",
     "data": {
      "text/plain": [
       "     name    date   cod  count_cod\n",
       "0     124  201610  xptx          1\n",
       "1     124  201611  xptx          1\n",
       "2     231  201610   tty          1\n",
       "3     231  201610   abc          1\n",
       "4     231  201610   ttx          1\n",
       "5     231  201611   tty          1\n",
       "6     231  201611   abc          1\n",
       "7     231  201611   ttx          1\n",
       "8   23124  201610  aggc          1\n",
       "9   23124  201610  xptx          1\n",
       "10  23124  201611  aggc          1\n",
       "11  23124  201611  xptx          1"
      ],
      "text/html": "<div>\n<style scoped>\n    .dataframe tbody tr th:only-of-type {\n        vertical-align: middle;\n    }\n\n    .dataframe tbody tr th {\n        vertical-align: top;\n    }\n\n    .dataframe thead th {\n        text-align: right;\n    }\n</style>\n<table border=\"1\" class=\"dataframe\">\n  <thead>\n    <tr style=\"text-align: right;\">\n      <th></th>\n      <th>name</th>\n      <th>date</th>\n      <th>cod</th>\n      <th>count_cod</th>\n    </tr>\n  </thead>\n  <tbody>\n    <tr>\n      <th>0</th>\n      <td>124</td>\n      <td>201610</td>\n      <td>xptx</td>\n      <td>1</td>\n    </tr>\n    <tr>\n      <th>1</th>\n      <td>124</td>\n      <td>201611</td>\n      <td>xptx</td>\n      <td>1</td>\n    </tr>\n    <tr>\n      <th>2</th>\n      <td>231</td>\n      <td>201610</td>\n      <td>tty</td>\n      <td>1</td>\n    </tr>\n    <tr>\n      <th>3</th>\n      <td>231</td>\n      <td>201610</td>\n      <td>abc</td>\n      <td>1</td>\n    </tr>\n    <tr>\n      <th>4</th>\n      <td>231</td>\n      <td>201610</td>\n      <td>ttx</td>\n      <td>1</td>\n    </tr>\n    <tr>\n      <th>5</th>\n      <td>231</td>\n      <td>201611</td>\n      <td>tty</td>\n      <td>1</td>\n    </tr>\n    <tr>\n      <th>6</th>\n      <td>231</td>\n      <td>201611</td>\n      <td>abc</td>\n      <td>1</td>\n    </tr>\n    <tr>\n      <th>7</th>\n      <td>231</td>\n      <td>201611</td>\n      <td>ttx</td>\n      <td>1</td>\n    </tr>\n    <tr>\n      <th>8</th>\n      <td>23124</td>\n      <td>201610</td>\n      <td>aggc</td>\n      <td>1</td>\n    </tr>\n    <tr>\n      <th>9</th>\n      <td>23124</td>\n      <td>201610</td>\n      <td>xptx</td>\n      <td>1</td>\n    </tr>\n    <tr>\n      <th>10</th>\n      <td>23124</td>\n      <td>201611</td>\n      <td>aggc</td>\n      <td>1</td>\n    </tr>\n    <tr>\n      <th>11</th>\n      <td>23124</td>\n      <td>201611</td>\n      <td>xptx</td>\n      <td>1</td>\n    </tr>\n  </tbody>\n</table>\n</div>"
     },
     "metadata": {},
     "execution_count": 14
    }
   ],
   "source": [
    "def top_value_count(x, n=5):\n",
    "    return x.value_counts().head(n)\n",
    "\n",
    "gb = df.groupby(['name', 'date']).cod\n",
    "df_top_freq = gb.apply(top_value_count).reset_index()\n",
    "df_top_freq.rename(columns=dict(level_2='cod', cod='count_cod'))"
   ]
  },
  {
   "cell_type": "code",
   "execution_count": null,
   "metadata": {},
   "outputs": [],
   "source": [
    "df[df['nr_cpf']==\"30738332852\"].sort_values(\"qt_items_\",ascending=False).head()\n",
    "forma2[forma2['nr_cpf']==\"30738332852\"].head()\n",
    "\n",
    "\n",
    "# forma2[forma2['nm_subcategoria_produto'].str.contains(\",\")]\n",
    "df[df['nr_cpf']==\"00000274640\"].sort_values(\"qt_items_\",ascending=False).head()\n",
    "\n",
    "\n",
    "forma2[forma2['nr_cpf']==\"00000274640\"].head()"
   ]
  },
  {
   "cell_type": "code",
   "execution_count": 2,
   "metadata": {},
   "outputs": [
    {
     "output_type": "execute_result",
     "data": {
      "text/plain": [
       "153.5233139032815"
      ]
     },
     "metadata": {},
     "execution_count": 2
    }
   ],
   "source": [
    "posicao_titulo = 153.5233139032815\n",
    "effective_page_width = 276.9975833333333\n",
    "pdf_r_margin = 10.001249999999999\n",
    "effective_page_width/1.93 + pdf_r_margin\n"
   ]
  },
  {
   "cell_type": "code",
   "execution_count": null,
   "metadata": {},
   "outputs": [],
   "source": []
  }
 ]
}